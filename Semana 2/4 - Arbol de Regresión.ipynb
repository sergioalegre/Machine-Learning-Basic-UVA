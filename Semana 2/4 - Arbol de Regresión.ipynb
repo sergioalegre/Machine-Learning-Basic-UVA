{
 "cells": [
  {
   "cell_type": "markdown",
   "metadata": {},
   "source": [
    "# Árbol de regresión"
   ]
  },
  {
   "cell_type": "markdown",
   "metadata": {},
   "source": [
    "<p style='text-align: justify;'>Los <b>árboles de regresión</b> son métodos predictivos basados en la segmentación en donde le conjunto de datos se divide en diferentes categorías y a los datos que estén dentro de cada intervalo se les asigna directamente un valor establecido en lugar de una etiqueta perteneciente a la categoría donde este ubicado el dato lo cual es la principal diferencia con respecto a su contraparte los Árboles de clasificación.</p>"
   ]
  },
  {
   "cell_type": "markdown",
   "metadata": {},
   "source": [
    "### Ejemplo de un árbol de regresión\n",
    "<p style='text-align: justify;'>Veamos juntos la siguiente gráfica donde se han plasmado un conjunto de datos diferentes</p>  \n",
    "<center><img src=\"img/ArbReg1.png\" width = \"50%\"></center>\n",
    "<p style='text-align: justify;'>El procedimiento para generar un árbol de regresión empieza partiendo la totalidad del intervalo de los datos de la variable independiente <b>x</b> en diferentes intervalos pequeños. En nuestro ejemplo aprovecharemos que es posible identificar que los datos parecen estar agrupados en los siguientes cuatro intervalos:</p>  \n",
    "\\begin{equation}\n",
    "Intervalo_1: 0\\le x < 0.25 \\\\\\\n",
    "Intervalo_2: 0.25\\le x < 0.5 \\\\\\\n",
    "Intervalo_3: 0.5\\le x < 0.75 \\\\\\\n",
    "Intervalo_4: 0.75\\le x \\le 1.0\n",
    "\\end{equation}\n",
    "<p style='text-align: justify;'>En la siguiente figura hemos marcado dichos intervalos con la ayuda de las líneas azules punteadas.</p>  \n",
    "<center><img src=\"img/ArbReg2.png\" width = \"50%\"></center>\n",
    "<p style='text-align: justify;'>Todos los valores dentro del primer intervalo son muy cercanos al valor de $y=10$, de igual manera se pueden establecer relaciones similares para los valores de los demás intervalos.</p>  \n",
    "\\begin{equation}\n",
    "Intervalo_1: y = 10 \\\\\\\n",
    "Intervalo_2: y = 15 \\\\\\\n",
    "Intervalo_3: y = 20 \\\\\\\n",
    "Intervalo_4: y = 15\n",
    "\\end{equation}\n",
    "<p style='text-align: justify;'>En la siguiente figura es posible identificar estas relaciones viendo las líneas azules gruesas.</p>  \n",
    "<center><img src=\"img/ArbReg3.png\" width = \"50%\"></center>\n",
    "<p style='text-align: justify;'>Posterior a las observaciones que hemos realizado podemos construir un conjunto de reglas basadas en el valor de <b>x</b> que tiene la variable y representarlas en forma de un diagrama como se muestra a continuación:</p> \n",
    "<center><img src=\"img/ArbReg4.png\" width = \"70%\"></center>\n",
    "<p style='text-align: justify;'>Este diagrama se conoce como árbol de regresión y se utiliza para asignarle un valor numérico a una entrada <b>x</b> de la cuál no se conocía su valor de salida <b>y</b> previamente. Para ejemplificar lo anterior suponga que existe un valor de entrada tal que $x^*=0.4$ para el cuál no se conoce con exactitud su valor de salida $y$, el nuevo valor se encuentra marcado como un punto rojo en la siguiente imagen.</p> \n",
    "<center><img src=\"img/ArbReg5.png\" width = \"50%\"></center>\n",
    "<p style='text-align: justify;'>Siguiendo el árbol de regresión propuesto podemos identificar lo siguiente:</p>\n",
    "<center><img src=\"img/ArbReg6.png\" width = \"70%\"></center>\n",
    "<p style='text-align: justify;'>Por lo que el valor de salida que se le va a asociar a la entrada de $x=0.4$ será $y=15$.</p>"
   ]
  },
  {
   "cell_type": "code",
   "execution_count": 1,
   "metadata": {},
   "outputs": [
    {
     "data": {
      "text/html": [
       "<div>\n",
       "<style scoped>\n",
       "    .dataframe tbody tr th:only-of-type {\n",
       "        vertical-align: middle;\n",
       "    }\n",
       "\n",
       "    .dataframe tbody tr th {\n",
       "        vertical-align: top;\n",
       "    }\n",
       "\n",
       "    .dataframe thead th {\n",
       "        text-align: right;\n",
       "    }\n",
       "</style>\n",
       "<table border=\"1\" class=\"dataframe\">\n",
       "  <thead>\n",
       "    <tr style=\"text-align: right;\">\n",
       "      <th></th>\n",
       "      <th>CRIM</th>\n",
       "      <th>ZN</th>\n",
       "      <th>INDUS</th>\n",
       "      <th>CHAS</th>\n",
       "      <th>NOX</th>\n",
       "      <th>RM</th>\n",
       "      <th>AGE</th>\n",
       "      <th>DIS</th>\n",
       "      <th>RAD</th>\n",
       "      <th>TAX</th>\n",
       "      <th>PTRATIO</th>\n",
       "      <th>B</th>\n",
       "      <th>LSTAT</th>\n",
       "      <th>MEDV</th>\n",
       "    </tr>\n",
       "  </thead>\n",
       "  <tbody>\n",
       "    <tr>\n",
       "      <th>0</th>\n",
       "      <td>0.00632</td>\n",
       "      <td>18.0</td>\n",
       "      <td>2.31</td>\n",
       "      <td>0.0</td>\n",
       "      <td>0.538</td>\n",
       "      <td>6.575</td>\n",
       "      <td>65.2</td>\n",
       "      <td>4.0900</td>\n",
       "      <td>1.0</td>\n",
       "      <td>296.0</td>\n",
       "      <td>15.3</td>\n",
       "      <td>396.90</td>\n",
       "      <td>4.98</td>\n",
       "      <td>24.0</td>\n",
       "    </tr>\n",
       "    <tr>\n",
       "      <th>1</th>\n",
       "      <td>0.02731</td>\n",
       "      <td>0.0</td>\n",
       "      <td>7.07</td>\n",
       "      <td>0.0</td>\n",
       "      <td>0.469</td>\n",
       "      <td>6.421</td>\n",
       "      <td>78.9</td>\n",
       "      <td>4.9671</td>\n",
       "      <td>2.0</td>\n",
       "      <td>242.0</td>\n",
       "      <td>17.8</td>\n",
       "      <td>396.90</td>\n",
       "      <td>9.14</td>\n",
       "      <td>21.6</td>\n",
       "    </tr>\n",
       "    <tr>\n",
       "      <th>2</th>\n",
       "      <td>0.02729</td>\n",
       "      <td>0.0</td>\n",
       "      <td>7.07</td>\n",
       "      <td>0.0</td>\n",
       "      <td>0.469</td>\n",
       "      <td>7.185</td>\n",
       "      <td>61.1</td>\n",
       "      <td>4.9671</td>\n",
       "      <td>2.0</td>\n",
       "      <td>242.0</td>\n",
       "      <td>17.8</td>\n",
       "      <td>392.83</td>\n",
       "      <td>4.03</td>\n",
       "      <td>34.7</td>\n",
       "    </tr>\n",
       "    <tr>\n",
       "      <th>3</th>\n",
       "      <td>0.03237</td>\n",
       "      <td>0.0</td>\n",
       "      <td>2.18</td>\n",
       "      <td>0.0</td>\n",
       "      <td>0.458</td>\n",
       "      <td>6.998</td>\n",
       "      <td>45.8</td>\n",
       "      <td>6.0622</td>\n",
       "      <td>3.0</td>\n",
       "      <td>222.0</td>\n",
       "      <td>18.7</td>\n",
       "      <td>394.63</td>\n",
       "      <td>2.94</td>\n",
       "      <td>33.4</td>\n",
       "    </tr>\n",
       "    <tr>\n",
       "      <th>4</th>\n",
       "      <td>0.06905</td>\n",
       "      <td>0.0</td>\n",
       "      <td>2.18</td>\n",
       "      <td>0.0</td>\n",
       "      <td>0.458</td>\n",
       "      <td>7.147</td>\n",
       "      <td>54.2</td>\n",
       "      <td>6.0622</td>\n",
       "      <td>3.0</td>\n",
       "      <td>222.0</td>\n",
       "      <td>18.7</td>\n",
       "      <td>396.90</td>\n",
       "      <td>5.33</td>\n",
       "      <td>36.2</td>\n",
       "    </tr>\n",
       "  </tbody>\n",
       "</table>\n",
       "</div>"
      ],
      "text/plain": [
       "      CRIM    ZN  INDUS  CHAS    NOX     RM   AGE     DIS  RAD    TAX  \\\n",
       "0  0.00632  18.0   2.31   0.0  0.538  6.575  65.2  4.0900  1.0  296.0   \n",
       "1  0.02731   0.0   7.07   0.0  0.469  6.421  78.9  4.9671  2.0  242.0   \n",
       "2  0.02729   0.0   7.07   0.0  0.469  7.185  61.1  4.9671  2.0  242.0   \n",
       "3  0.03237   0.0   2.18   0.0  0.458  6.998  45.8  6.0622  3.0  222.0   \n",
       "4  0.06905   0.0   2.18   0.0  0.458  7.147  54.2  6.0622  3.0  222.0   \n",
       "\n",
       "   PTRATIO       B  LSTAT  MEDV  \n",
       "0     15.3  396.90   4.98  24.0  \n",
       "1     17.8  396.90   9.14  21.6  \n",
       "2     17.8  392.83   4.03  34.7  \n",
       "3     18.7  394.63   2.94  33.4  \n",
       "4     18.7  396.90   5.33  36.2  "
      ]
     },
     "execution_count": 1,
     "metadata": {},
     "output_type": "execute_result"
    }
   ],
   "source": [
    "from sklearn.datasets import load_boston\n",
    "\n",
    "boston_dataset = load_boston()\n",
    "import pandas as pd\n",
    "df = pd.DataFrame(boston_dataset.data,columns=boston_dataset.feature_names)\n",
    "# Agregamos la variable de respuesta\n",
    "df['MEDV'] = boston_dataset.target[df.index]\n",
    "df.head()"
   ]
  },
  {
   "cell_type": "code",
   "execution_count": 2,
   "metadata": {},
   "outputs": [
    {
     "data": {
      "text/plain": [
       "LSTAT     -0.737663\n",
       "PTRATIO   -0.507787\n",
       "INDUS     -0.483725\n",
       "TAX       -0.468536\n",
       "NOX       -0.427321\n",
       "CRIM      -0.388305\n",
       "RAD       -0.381626\n",
       "AGE       -0.376955\n",
       "CHAS       0.175260\n",
       "DIS        0.249929\n",
       "B          0.333461\n",
       "ZN         0.360445\n",
       "RM         0.695360\n",
       "MEDV       1.000000\n",
       "Name: MEDV, dtype: float64"
      ]
     },
     "execution_count": 2,
     "metadata": {},
     "output_type": "execute_result"
    }
   ],
   "source": [
    "df.corr()[\"MEDV\"].sort_values()"
   ]
  },
  {
   "cell_type": "code",
   "execution_count": 3,
   "metadata": {
    "collapsed": true
   },
   "outputs": [],
   "source": [
    "# normalizamos datos\n",
    "X = df[\"LSTAT\"].values.reshape(-1, 1)\n",
    "y = df[\"MEDV\"].values.reshape(-1, 1)"
   ]
  },
  {
   "cell_type": "code",
   "execution_count": 4,
   "metadata": {
    "collapsed": true
   },
   "outputs": [],
   "source": [
    "from sklearn.preprocessing import MinMaxScaler\n",
    "X_scaler = MinMaxScaler()\n",
    "y_scaler = MinMaxScaler()\n",
    "X = X_scaler.fit_transform(X)\n",
    "y = y_scaler.fit_transform(y)"
   ]
  },
  {
   "cell_type": "code",
   "execution_count": 5,
   "metadata": {
    "collapsed": true
   },
   "outputs": [],
   "source": [
    "# Creamos un split de datos\n",
    "from sklearn.model_selection import train_test_split\n",
    "X_train, X_test, y_train, y_test = train_test_split(\n",
    "    X, y, test_size=0.33, random_state=100)"
   ]
  },
  {
   "cell_type": "code",
   "execution_count": 6,
   "metadata": {
    "collapsed": true
   },
   "outputs": [],
   "source": [
    "from sklearn.tree import DecisionTreeRegressor\n",
    "\n",
    "tree_2 = DecisionTreeRegressor(max_depth=2)"
   ]
  },
  {
   "cell_type": "code",
   "execution_count": 7,
   "metadata": {
    "collapsed": true
   },
   "outputs": [],
   "source": [
    "# Creando el modelo y entrenando\n",
    "reg = tree_2.fit(X_train,y_train.reshape(-1))\n",
    "y_train_hat = tree_2.predict(X_train)\n",
    "y_test_hat = tree_2.predict(X_test)"
   ]
  },
  {
   "cell_type": "code",
   "execution_count": 14,
   "metadata": {},
   "outputs": [
    {
     "data": {
      "image/png": "[encoded data removed]",
      "text/plain": [
       "<Figure size 432x288 with 1 Axes>"
      ]
     },
     "metadata": {
      "needs_background": "light"
     },
     "output_type": "display_data"
    }
   ],
   "source": [
    "import matplotlib.pyplot as plt\n",
    "import numpy as np\n",
    "\n",
    "%matplotlib inline# Le decimos a jupyter que grafique en  el cuaderno\n",
    "\n",
    "plt.scatter(X_train, y_train,alpha=0.5)\n",
    "plt.scatter(X_test, y_test,alpha=0.5)\n",
    "\n",
    "X_plot = np.linspace(0,1,1000).reshape(-1, 1) # 1000 puntos entre 0 y 1 para ver pequeñas diferencias\n",
    "y_plot = tree_2.predict(X_plot)\n",
    "\n",
    "plt.plot(X_plot, y_plot,\"r--\");"
   ]
  },
  {
   "cell_type": "code",
   "execution_count": 9,
   "metadata": {},
   "outputs": [
    {
     "name": "stdout",
     "output_type": "stream",
     "text": [
      "digraph Tree {\n",
      "node [shape=box] ;\n",
      "0 [label=\"X[0] <= 0.169\\nmse = 0.039\\nsamples = 339\\nvalue = 0.391\"] ;\n",
      "1 [label=\"X[0] <= 0.08\\nmse = 0.037\\nsamples = 110\\nvalue = 0.583\"] ;\n",
      "0 -> 1 [labeldistance=2.5, labelangle=45, headlabel=\"True\"] ;\n",
      "2 [label=\"mse = 0.03\\nsamples = 31\\nvalue = 0.777\"] ;\n",
      "1 -> 2 ;\n",
      "3 [label=\"mse = 0.019\\nsamples = 79\\nvalue = 0.506\"] ;\n",
      "1 -> 3 ;\n",
      "4 [label=\"X[0] <= 0.396\\nmse = 0.014\\nsamples = 229\\nvalue = 0.298\"] ;\n",
      "0 -> 4 [labeldistance=2.5, labelangle=-45, headlabel=\"False\"] ;\n",
      "5 [label=\"mse = 0.007\\nsamples = 132\\nvalue = 0.366\"] ;\n",
      "4 -> 5 ;\n",
      "6 [label=\"mse = 0.008\\nsamples = 97\\nvalue = 0.206\"] ;\n",
      "4 -> 6 ;\n",
      "}\n"
     ]
    }
   ],
   "source": [
    "from sklearn.tree import export_graphviz\n",
    "print(export_graphviz(tree_2))\n",
    "# esto es otra forma de verlo solo que asi es dificil, si vamos a https://dreampuf.github.io/GraphvizOnline\n",
    "# podremos verlo mejor"
   ]
  },
  {
   "cell_type": "code",
   "execution_count": 10,
   "metadata": {},
   "outputs": [
    {
     "name": "stdout",
     "output_type": "stream",
     "text": [
      "Entrenamiento 0.686183783521107\n",
      "Prueba 0.5894049706991193\n"
     ]
    }
   ],
   "source": [
    "from sklearn.metrics import r2_score\n",
    "print(\"Entrenamiento\", r2_score(y_train, y_train_hat))\n",
    "print(\"Prueba\", r2_score(y_test, y_test_hat))"
   ]
  },
  {
   "cell_type": "code",
   "execution_count": 11,
   "metadata": {
    "collapsed": true
   },
   "outputs": [],
   "source": [
    "#Probamos otro arbol con mas profundidad\n",
    "tree_5 = DecisionTreeRegressor(max_depth=5)\n",
    "\n",
    "\n",
    "reg = tree_5.fit(X_train,y_train.reshape(-1))\n",
    "y_train_hat = tree_5.predict(X_train)\n",
    "y_test_hat = tree_5.predict(X_test)"
   ]
  },
  {
   "cell_type": "code",
   "execution_count": 15,
   "metadata": {},
   "outputs": [
    {
     "name": "stdout",
     "output_type": "stream",
     "text": [
      "Entrenamiento 0.7904544931651996\n",
      "Prueba 0.5972431490552768\n"
     ]
    },
    {
     "data": {
      "image/png": "[encoded data removed]",
      "text/plain": [
       "<Figure size 432x288 with 1 Axes>"
      ]
     },
     "metadata": {
      "needs_background": "light"
     },
     "output_type": "display_data"
    }
   ],
   "source": [
    "plt.scatter(X_train, y_train,alpha=0.5)\n",
    "plt.scatter(X_test, y_test,alpha=0.5)\n",
    "\n",
    "X_plot = np.linspace(0,1,1000).reshape(-1, 1)\n",
    "\n",
    "y_plot = tree_5.predict(X_plot)\n",
    "\n",
    "plt.plot(X_plot, y_plot,\"r--\")\n",
    "\n",
    "print(\"Entrenamiento\", r2_score(y_train, y_train_hat))\n",
    "print(\"Prueba\", r2_score(y_test, y_test_hat))\n",
    "\n",
    "#se ajusta demasiado con una profundidad de 5, tenemos un problema de overfitting"
   ]
  },
  {
   "cell_type": "code",
   "execution_count": 13,
   "metadata": {},
   "outputs": [
    {
     "name": "stdout",
     "output_type": "stream",
     "text": [
      "digraph Tree {\n",
      "node [shape=box] ;\n",
      "0 [label=\"X[0] <= 0.169\\nmse = 0.039\\nsamples = 339\\nvalue = 0.391\"] ;\n",
      "1 [label=\"X[0] <= 0.08\\nmse = 0.037\\nsamples = 110\\nvalue = 0.583\"] ;\n",
      "0 -> 1 [labeldistance=2.5, labelangle=45, headlabel=\"True\"] ;\n",
      "2 [label=\"X[0] <= 0.042\\nmse = 0.03\\nsamples = 31\\nvalue = 0.777\"] ;\n",
      "1 -> 2 ;\n",
      "3 [label=\"X[0] <= 0.013\\nmse = 0.018\\nsamples = 12\\nvalue = 0.866\"] ;\n",
      "2 -> 3 ;\n",
      "4 [label=\"mse = 0.0\\nsamples = 2\\nvalue = 1.0\"] ;\n",
      "3 -> 4 ;\n",
      "5 [label=\"X[0] <= 0.039\\nmse = 0.017\\nsamples = 10\\nvalue = 0.839\"] ;\n",
      "3 -> 5 ;\n",
      "6 [label=\"mse = 0.017\\nsamples = 8\\nvalue = 0.817\"] ;\n",
      "5 -> 6 ;\n",
      "7 [label=\"mse = 0.005\\nsamples = 2\\nvalue = 0.928\"] ;\n",
      "5 -> 7 ;\n",
      "8 [label=\"X[0] <= 0.053\\nmse = 0.03\\nsamples = 19\\nvalue = 0.722\"] ;\n",
      "2 -> 8 ;\n",
      "9 [label=\"X[0] <= 0.051\\nmse = 0.02\\nsamples = 5\\nvalue = 0.626\"] ;\n",
      "8 -> 9 ;\n",
      "10 [label=\"mse = 0.014\\nsamples = 4\\nvalue = 0.672\"] ;\n",
      "9 -> 10 ;\n",
      "11 [label=\"mse = 0.0\\nsamples = 1\\nvalue = 0.44\"] ;\n",
      "9 -> 11 ;\n",
      "12 [label=\"X[0] <= 0.061\\nmse = 0.029\\nsamples = 14\\nvalue = 0.756\"] ;\n",
      "8 -> 12 ;\n",
      "13 [label=\"mse = 0.002\\nsamples = 3\\nvalue = 0.941\"] ;\n",
      "12 -> 13 ;\n",
      "14 [label=\"mse = 0.024\\nsamples = 11\\nvalue = 0.705\"] ;\n",
      "12 -> 14 ;\n",
      "15 [label=\"X[0] <= 0.095\\nmse = 0.019\\nsamples = 79\\nvalue = 0.506\"] ;\n",
      "1 -> 15 ;\n",
      "16 [label=\"X[0] <= 0.093\\nmse = 0.026\\nsamples = 12\\nvalue = 0.605\"] ;\n",
      "15 -> 16 ;\n",
      "17 [label=\"X[0] <= 0.082\\nmse = 0.013\\nsamples = 11\\nvalue = 0.569\"] ;\n",
      "16 -> 17 ;\n",
      "18 [label=\"mse = 0.002\\nsamples = 2\\nvalue = 0.46\"] ;\n",
      "17 -> 18 ;\n",
      "19 [label=\"mse = 0.012\\nsamples = 9\\nvalue = 0.594\"] ;\n",
      "17 -> 19 ;\n",
      "20 [label=\"mse = -0.0\\nsamples = 1\\nvalue = 1.0\"] ;\n",
      "16 -> 20 ;\n",
      "21 [label=\"X[0] <= 0.169\\nmse = 0.016\\nsamples = 67\\nvalue = 0.488\"] ;\n",
      "15 -> 21 ;\n",
      "22 [label=\"X[0] <= 0.168\\nmse = 0.016\\nsamples = 66\\nvalue = 0.487\"] ;\n",
      "21 -> 22 ;\n",
      "23 [label=\"mse = 0.016\\nsamples = 65\\nvalue = 0.489\"] ;\n",
      "22 -> 23 ;\n",
      "24 [label=\"mse = -0.0\\nsamples = 1\\nvalue = 0.32\"] ;\n",
      "22 -> 24 ;\n",
      "25 [label=\"mse = -0.0\\nsamples = 1\\nvalue = 0.604\"] ;\n",
      "21 -> 25 ;\n",
      "26 [label=\"X[0] <= 0.396\\nmse = 0.014\\nsamples = 229\\nvalue = 0.298\"] ;\n",
      "0 -> 26 [labeldistance=2.5, labelangle=-45, headlabel=\"False\"] ;\n",
      "27 [label=\"X[0] <= 0.232\\nmse = 0.007\\nsamples = 132\\nvalue = 0.366\"] ;\n",
      "26 -> 27 ;\n",
      "28 [label=\"X[0] <= 0.17\\nmse = 0.009\\nsamples = 46\\nvalue = 0.404\"] ;\n",
      "27 -> 28 ;\n",
      "29 [label=\"mse = 0.0\\nsamples = 1\\nvalue = 0.153\"] ;\n",
      "28 -> 29 ;\n",
      "30 [label=\"X[0] <= 0.21\\nmse = 0.008\\nsamples = 45\\nvalue = 0.41\"] ;\n",
      "28 -> 30 ;\n",
      "31 [label=\"mse = 0.008\\nsamples = 24\\nvalue = 0.394\"] ;\n",
      "30 -> 31 ;\n",
      "32 [label=\"mse = 0.007\\nsamples = 21\\nvalue = 0.428\"] ;\n",
      "30 -> 32 ;\n",
      "33 [label=\"X[0] <= 0.349\\nmse = 0.005\\nsamples = 86\\nvalue = 0.346\"] ;\n",
      "27 -> 33 ;\n",
      "34 [label=\"X[0] <= 0.247\\nmse = 0.004\\nsamples = 68\\nvalue = 0.357\"] ;\n",
      "33 -> 34 ;\n",
      "35 [label=\"mse = 0.001\\nsamples = 16\\nvalue = 0.334\"] ;\n",
      "34 -> 35 ;\n",
      "36 [label=\"mse = 0.004\\nsamples = 52\\nvalue = 0.364\"] ;\n",
      "34 -> 36 ;\n",
      "37 [label=\"X[0] <= 0.385\\nmse = 0.005\\nsamples = 18\\nvalue = 0.301\"] ;\n",
      "33 -> 37 ;\n",
      "38 [label=\"mse = 0.005\\nsamples = 13\\nvalue = 0.284\"] ;\n",
      "37 -> 38 ;\n",
      "39 [label=\"mse = 0.001\\nsamples = 5\\nvalue = 0.344\"] ;\n",
      "37 -> 39 ;\n",
      "40 [label=\"X[0] <= 0.493\\nmse = 0.008\\nsamples = 97\\nvalue = 0.206\"] ;\n",
      "26 -> 40 ;\n",
      "41 [label=\"X[0] <= 0.398\\nmse = 0.004\\nsamples = 45\\nvalue = 0.253\"] ;\n",
      "40 -> 41 ;\n",
      "42 [label=\"mse = 0.0\\nsamples = 1\\nvalue = 0.18\"] ;\n",
      "41 -> 42 ;\n",
      "43 [label=\"X[0] <= 0.4\\nmse = 0.004\\nsamples = 44\\nvalue = 0.255\"] ;\n",
      "41 -> 43 ;\n",
      "44 [label=\"mse = 0.0\\nsamples = 2\\nvalue = 0.313\"] ;\n",
      "43 -> 44 ;\n",
      "45 [label=\"mse = 0.004\\nsamples = 42\\nvalue = 0.252\"] ;\n",
      "43 -> 45 ;\n",
      "46 [label=\"X[0] <= 0.787\\nmse = 0.008\\nsamples = 52\\nvalue = 0.166\"] ;\n",
      "40 -> 46 ;\n",
      "47 [label=\"X[0] <= 0.767\\nmse = 0.007\\nsamples = 41\\nvalue = 0.176\"] ;\n",
      "46 -> 47 ;\n",
      "48 [label=\"mse = 0.006\\nsamples = 39\\nvalue = 0.168\"] ;\n",
      "47 -> 48 ;\n",
      "49 [label=\"mse = 0.006\\nsamples = 2\\nvalue = 0.336\"] ;\n",
      "47 -> 49 ;\n",
      "50 [label=\"X[0] <= 0.896\\nmse = 0.008\\nsamples = 11\\nvalue = 0.13\"] ;\n",
      "46 -> 50 ;\n",
      "51 [label=\"mse = 0.004\\nsamples = 6\\nvalue = 0.084\"] ;\n",
      "50 -> 51 ;\n",
      "52 [label=\"mse = 0.006\\nsamples = 5\\nvalue = 0.186\"] ;\n",
      "50 -> 52 ;\n",
      "}\n"
     ]
    }
   ],
   "source": [
    "print(export_graphviz(tree_5))"
   ]
  },
  {
   "cell_type": "code",
   "execution_count": null,
   "metadata": {
    "collapsed": true
   },
   "outputs": [],
   "source": []
  }
 ],
 "metadata": {
  "kernelspec": {
   "display_name": "Python 3",
   "language": "python",
   "name": "python3"
  },
  "language_info": {
   "codemirror_mode": {
    "name": "ipython",
    "version": 3
   },
   "file_extension": ".py",
   "mimetype": "text/x-python",
   "name": "python",
   "nbconvert_exporter": "python",
   "pygments_lexer": "ipython3",
   "version": "3.7.3"
  }
 },
 "nbformat": 4,
 "nbformat_minor": 2
}
